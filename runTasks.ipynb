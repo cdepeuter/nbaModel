{
 "cells": [
  {
   "cell_type": "code",
   "execution_count": 49,
   "metadata": {
    "collapsed": false
   },
   "outputs": [],
   "source": [
    "import urllib2\n",
    "import json\n",
    "import sims"
   ]
  },
  {
   "cell_type": "code",
   "execution_count": 68,
   "metadata": {
    "collapsed": false
   },
   "outputs": [],
   "source": [
    "def getOdds(*args):\n",
    "    #args[0] if exists is date in YYYYMMDD\n",
    "    #odds are only made day of or right before, so will only work with no input or datestring of tmrw\n",
    "    url = \"http://site.api.espn.com/apis/site/v2/sports/basketball/nba/scoreboard\"\n",
    "    if len(args) > 0:\n",
    "        url = url + \"?dates=\" + args[0]\n",
    "    #print(url)\n",
    "    data = json.loads(urllib2.urlopen(url).read())\n",
    "    games = data['events']\n",
    "    todays = []\n",
    "    for game in games:\n",
    "        game = game['competitions'][0]\n",
    "\n",
    "        #make sure the game is pre, otherwise theres no odds\n",
    "        status = game['status']['type']['state']\n",
    "        if status != 'pre':\n",
    "            continue\n",
    "\n",
    "        #get teams\n",
    "        home = game['competitors'][0]['team']['name']\n",
    "        away = game['competitors'][1]['team']['name']\n",
    "\n",
    "        #get odds\n",
    "        if 'odds' in game:\n",
    "            line = game['odds'][0]['details']\n",
    "            ou = game['odds'][0]['overUnder']\n",
    "            todays.append((away, home, line, ou))\n",
    "        \n",
    "    return todays\n",
    "\n",
    "def getPredictions(*args):\n",
    "    games = getOdds(*args)\n",
    "    #print(games)\n",
    "    allSims = []\n",
    "    for game in games:\n",
    "        sg = sims.simGame(game[0], game[1])\n",
    "        allSims.append(game + sg[0:2])\n",
    "    return allSims"
   ]
  },
  {
   "cell_type": "code",
   "execution_count": 69,
   "metadata": {
    "collapsed": false
   },
   "outputs": [
    {
     "name": "stdout",
     "output_type": "stream",
     "text": [
      "[(u'Pelicans', u'Heat', u'MIA -5.5', 200.0), (u'Bulls', u'Thunder', u'OKC -9.0', 205.0), (u'Cavaliers', u'Warriors', u'GS -7.0', 209.5), (u'Spurs', u'Rockets', u'SA -6.5', 200.5), (u'Clippers', u'Lakers', u'LAC -11.5', 207.0)]\n"
     ]
    },
    {
     "data": {
      "text/plain": [
       "[(u'Pelicans', u'Heat', u'MIA -5.5', 200.0, 95.168, 100.548),\n",
       " (u'Bulls', u'Thunder', u'OKC -9.0', 205.0, 94.1595, 99.2875),\n",
       " (u'Cavaliers', u'Warriors', u'GS -7.0', 209.5, 96.148, 101.6515),\n",
       " (u'Spurs', u'Rockets', u'SA -6.5', 200.5, 97.822, 92.5375),\n",
       " (u'Clippers', u'Lakers', u'LAC -11.5', 207.0, 100.6095, 98.5755)]"
      ]
     },
     "execution_count": 69,
     "metadata": {},
     "output_type": "execute_result"
    }
   ],
   "source": [
    "getPredictions()"
   ]
  },
  {
   "cell_type": "markdown",
   "metadata": {},
   "source": [
    "Clipplers lakers much closer in models than the spread. Everything else has the model prediction matching the spread pretty well."
   ]
  },
  {
   "cell_type": "code",
   "execution_count": null,
   "metadata": {
    "collapsed": true
   },
   "outputs": [],
   "source": []
  }
 ],
 "metadata": {
  "kernelspec": {
   "display_name": "Python 2",
   "language": "python",
   "name": "python2"
  },
  "language_info": {
   "codemirror_mode": {
    "name": "ipython",
    "version": 2
   },
   "file_extension": ".py",
   "mimetype": "text/x-python",
   "name": "python",
   "nbconvert_exporter": "python",
   "pygments_lexer": "ipython2",
   "version": "2.7.10"
  }
 },
 "nbformat": 4,
 "nbformat_minor": 0
}
